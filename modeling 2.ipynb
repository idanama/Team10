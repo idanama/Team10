{
 "cells": [
  {
   "cell_type": "markdown",
   "metadata": {},
   "source": [
    "# Setup\n",
    "\n",
    "## import libraries and packages"
   ]
  },
  {
   "cell_type": "code",
   "execution_count": 1,
   "metadata": {
    "ExecuteTime": {
     "end_time": "2021-01-20T18:36:21.425687Z",
     "start_time": "2021-01-20T18:36:20.012622Z"
    }
   },
   "outputs": [],
   "source": [
    "import warnings\n",
    "warnings.filterwarnings(\"ignore\", category=DeprecationWarning)\n",
    "import os\n",
    "import cv2\n",
    "import numpy as np\n",
    "from random import shuffle\n",
    "from keras.utils import np_utils\n",
    "from pathlib import Path\n",
    "from typing import Union\n",
    "from multiprocessing import Pool\n",
    "import keras\n",
    "import pandas as pd\n",
    "from keras.optimizers import SGD\n",
    "from keras.models import Sequential\n",
    "from keras.layers.normalization import BatchNormalization\n",
    "from keras.layers import Dense, Activation, Dropout, Flatten,Conv2D, MaxPooling2D\n",
    "from sklearn.model_selection import train_test_split\n",
    "from tensorflow.keras.callbacks import EarlyStopping, ModelCheckpoint"
   ]
  },
  {
   "cell_type": "markdown",
   "metadata": {},
   "source": [
    "## setup constants"
   ]
  },
  {
   "cell_type": "code",
   "execution_count": 2,
   "metadata": {
    "ExecuteTime": {
     "end_time": "2021-01-20T18:36:21.429016Z",
     "start_time": "2021-01-20T18:36:21.426678Z"
    }
   },
   "outputs": [],
   "source": [
    "TRAIN = Path('data/ASL_Alphabet/asl_alphabet_train/asl_alphabet_train')\n",
    "TEST = Path('data/ASL_Alphabet/asl_alphabet_test/asl_alphabet_test')\n",
    "RESIZED_TRAIN = Path('data/ASL_Alphabet/asl_alphabet_train/asl_alphabet_train_resized')\n",
    "RESIZED_TEST = Path('data/ASL_Alphabet/asl_alphabet_test/asl_alphabet_test_resized')\n",
    "RESIZED_NPY = Path('data/ASL_Alphabet/npy')\n",
    "NEW_SIZE = (224,224)\n",
    "MODEL = Path('/home/yoav/PycharmProjects/ITC/hackathon/Team10/model.json')\n",
    "MODEL_WEIGHTS = Path('/home/yoav/PycharmProjects/ITC/hackathon/Team10/weights.h5')\n",
    "RANDOM_STATE = 42\n",
    "VALIDATION_SIZE = 0.2"
   ]
  },
  {
   "cell_type": "markdown",
   "metadata": {},
   "source": [
    "## generate output paths"
   ]
  },
  {
   "cell_type": "code",
   "execution_count": 3,
   "metadata": {
    "ExecuteTime": {
     "end_time": "2021-01-20T18:36:21.437009Z",
     "start_time": "2021-01-20T18:36:21.430050Z"
    }
   },
   "outputs": [],
   "source": [
    "os.makedirs(RESIZED_TRAIN, exist_ok=True)\n",
    "os.makedirs(RESIZED_TEST, exist_ok=True)\n",
    "os.makedirs(RESIZED_NPY, exist_ok=True)"
   ]
  },
  {
   "cell_type": "markdown",
   "metadata": {},
   "source": [
    "## helper functions"
   ]
  },
  {
   "cell_type": "code",
   "execution_count": 4,
   "metadata": {
    "ExecuteTime": {
     "end_time": "2021-01-20T18:36:21.444186Z",
     "start_time": "2021-01-20T18:36:21.437989Z"
    }
   },
   "outputs": [],
   "source": [
    "def sub_dirs(directory: Path):\n",
    "    sub_lst = []\n",
    "    for sub_dir in directory.glob('*'):\n",
    "        if sub_dir.is_dir():\n",
    "            sub_lst.append(sub_dir)\n",
    "    return sub_lst\n",
    "\n",
    "def resize_img(img: Union[str, Path], new_img: Union[str, Path], \n",
    "               new_size=(224,224)):\n",
    "    image = cv2.imread(str(img))\n",
    "    resized_image = cv2.resize(image,new_size)\n",
    "    cv2.imwrite(str(new_img), resized_image)\n",
    "    \n",
    "def pool_4_train_set(input_dirs: list, output_dir: Path, new_size: tuple) -> list:\n",
    "    features, labels, pool_jobs = [], [], []\n",
    "    for input_sub in sub_dirs(input_dirs):\n",
    "        label = input_sub.name\n",
    "        output_sub = output_dir / label\n",
    "        os.makedirs(output_sub, exist_ok=True)\n",
    "        for img in input_sub.glob('*.jpg'):\n",
    "            new_img = output_sub / img.name\n",
    "            pool_jobs.append((img, new_img, new_size))\n",
    "            features.append(str(new_img)), labels.append(label)\n",
    "    return features, labels, pool_jobs\n",
    "\n",
    "def pool_4_test_set(input_dir: list, output_dir: Path, new_size: tuple) -> list:\n",
    "    features, labels, pool_jobs = [], [], []\n",
    "    for img in input_dir.glob('*.jpg'):\n",
    "        label = img.name.split('_')[0]\n",
    "        output_sub = output_dir / label\n",
    "        os.makedirs(output_sub, exist_ok=True)\n",
    "        new_img = output_sub / img.name\n",
    "        pool_jobs.append((img, new_img, new_size))\n",
    "        features.append(str(new_img)), labels.append(label)\n",
    "    return features, labels, pool_jobs\n",
    "\n",
    "def scale_pool(img_lst, by: int = 255):\n",
    "    return [(img, by) for img in img_lst]\n",
    "    \n",
    "def scale(img_dir: np.array, by: int = 255):\n",
    "    return cv2.imread(str(img_dir))/255"
   ]
  },
  {
   "cell_type": "markdown",
   "metadata": {},
   "source": [
    "# preprocessing\n",
    "\n",
    "## creating resize image jobs"
   ]
  },
  {
   "cell_type": "code",
   "execution_count": 5,
   "metadata": {
    "ExecuteTime": {
     "end_time": "2021-01-20T18:36:22.376520Z",
     "start_time": "2021-01-20T18:36:21.444913Z"
    },
    "scrolled": true
   },
   "outputs": [],
   "source": [
    "X_train, y_train, pool_train = pool_4_train_set(TRAIN, RESIZED_TRAIN, NEW_SIZE)\n",
    "X_test, y_test, pool_test = pool_4_test_set(TEST, RESIZED_TEST, NEW_SIZE)"
   ]
  },
  {
   "cell_type": "markdown",
   "metadata": {},
   "source": [
    "## split train to validation set"
   ]
  },
  {
   "cell_type": "code",
   "execution_count": 6,
   "metadata": {
    "ExecuteTime": {
     "end_time": "2021-01-20T18:36:22.460950Z",
     "start_time": "2021-01-20T18:36:22.377462Z"
    }
   },
   "outputs": [],
   "source": [
    "X_train, X_val, y_train, y_val, pool_train, pool_val = train_test_split(X_train, y_train, pool_train, test_size=VALIDATION_SIZE, random_state=RANDOM_STATE, stratify=y_train)"
   ]
  },
  {
   "cell_type": "markdown",
   "metadata": {},
   "source": [
    "## execute image resize and scale"
   ]
  },
  {
   "cell_type": "code",
   "execution_count": 7,
   "metadata": {
    "ExecuteTime": {
     "end_time": "2021-01-20T18:36:36.633181Z",
     "start_time": "2021-01-20T18:36:22.462020Z"
    }
   },
   "outputs": [],
   "source": [
    "with Pool() as p: p.starmap(resize_img, pool_train)\n",
    "with Pool() as p: p.starmap(resize_img, pool_val)\n",
    "with Pool() as p: p.starmap(resize_img, pool_test)"
   ]
  },
  {
   "cell_type": "markdown",
   "metadata": {},
   "source": [
    "## convert 2 one hot encoding"
   ]
  },
  {
   "cell_type": "code",
   "execution_count": 8,
   "metadata": {
    "ExecuteTime": {
     "end_time": "2021-01-20T18:36:36.684632Z",
     "start_time": "2021-01-20T18:36:36.638292Z"
    }
   },
   "outputs": [],
   "source": [
    "label_lst = pd.get_dummies(y_train).columns.tolist()\n",
    "y_train_cat = pd.get_dummies(y_train).values\n",
    "y_val_cat = pd.get_dummies(y_val).values\n",
    "y_test_cat = pd.get_dummies(y_test).values"
   ]
  },
  {
   "cell_type": "markdown",
   "metadata": {},
   "source": [
    "## read images to np.array and scale"
   ]
  },
  {
   "cell_type": "code",
   "execution_count": 9,
   "metadata": {
    "ExecuteTime": {
     "end_time": "2021-01-20T18:37:23.276971Z",
     "start_time": "2021-01-20T18:36:36.686337Z"
    }
   },
   "outputs": [],
   "source": [
    "X_train = np.array([cv2.imread(str(img)) for img in X_train])\n",
    "X_val = np.array([cv2.imread(str(img)) for img in X_val])\n",
    "X_test = np.array([cv2.imread(str(img)) for img in X_test])"
   ]
  },
  {
   "cell_type": "markdown",
   "metadata": {},
   "source": [
    "## save numpy object to disk"
   ]
  },
  {
   "cell_type": "code",
   "execution_count": 10,
   "metadata": {
    "ExecuteTime": {
     "end_time": "2021-01-20T18:37:29.216674Z",
     "start_time": "2021-01-20T18:37:23.278507Z"
    }
   },
   "outputs": [],
   "source": [
    "np.save(str(RESIZED_NPY/'X_train.npy'), X_train)\n",
    "np.save(str(RESIZED_NPY/'X_val.npy'), X_val)\n",
    "np.save(str(RESIZED_NPY/'X_test.npy'), X_test)\n",
    "np.save(str(RESIZED_NPY/'y_train.npy'), y_train_cat)\n",
    "np.save(str(RESIZED_NPY/'y_val.npy'), y_val_cat)\n",
    "np.save(str(RESIZED_NPY/'y_test.npy'), y_test_cat)"
   ]
  },
  {
   "cell_type": "markdown",
   "metadata": {},
   "source": [
    "## load numpy object to disk"
   ]
  },
  {
   "cell_type": "code",
   "execution_count": 11,
   "metadata": {
    "ExecuteTime": {
     "end_time": "2021-01-20T18:37:31.785087Z",
     "start_time": "2021-01-20T18:37:29.220469Z"
    }
   },
   "outputs": [],
   "source": [
    "X_train=np.load(str(RESIZED_NPY/'X_train.npy'))\n",
    "Y_train=np.load(str(RESIZED_NPY/'y_train.npy'))\n",
    "X_val=np.load(str(RESIZED_NPY/'X_val.npy'))\n",
    "Y_val=np.load(str(RESIZED_NPY/'y_val.npy'))\n",
    "X_test=np.load(str(RESIZED_NPY/'X_test.npy'))\n",
    "Y_test=np.load(str(RESIZED_NPY/'y_test.npy'))"
   ]
  },
  {
   "cell_type": "markdown",
   "metadata": {},
   "source": [
    "# Modeling\n",
    "\n",
    "## creating a sequential model"
   ]
  },
  {
   "cell_type": "code",
   "execution_count": 12,
   "metadata": {
    "ExecuteTime": {
     "end_time": "2021-01-20T18:37:32.053147Z",
     "start_time": "2021-01-20T18:37:31.786447Z"
    }
   },
   "outputs": [
    {
     "name": "stdout",
     "output_type": "stream",
     "text": [
      "Model: \"sequential\"\n",
      "_________________________________________________________________\n",
      "Layer (type)                 Output Shape              Param #   \n",
      "=================================================================\n",
      "conv2d (Conv2D)              (None, 54, 54, 96)        34944     \n",
      "_________________________________________________________________\n",
      "activation (Activation)      (None, 54, 54, 96)        0         \n",
      "_________________________________________________________________\n",
      "max_pooling2d (MaxPooling2D) (None, 27, 27, 96)        0         \n",
      "_________________________________________________________________\n",
      "batch_normalization (BatchNo (None, 27, 27, 96)        384       \n",
      "_________________________________________________________________\n",
      "conv2d_1 (Conv2D)            (None, 17, 17, 256)       2973952   \n",
      "_________________________________________________________________\n",
      "activation_1 (Activation)    (None, 17, 17, 256)       0         \n",
      "_________________________________________________________________\n",
      "max_pooling2d_1 (MaxPooling2 (None, 8, 8, 256)         0         \n",
      "_________________________________________________________________\n",
      "batch_normalization_1 (Batch (None, 8, 8, 256)         1024      \n",
      "_________________________________________________________________\n",
      "conv2d_2 (Conv2D)            (None, 6, 6, 384)         885120    \n",
      "_________________________________________________________________\n",
      "activation_2 (Activation)    (None, 6, 6, 384)         0         \n",
      "_________________________________________________________________\n",
      "batch_normalization_2 (Batch (None, 6, 6, 384)         1536      \n",
      "_________________________________________________________________\n",
      "conv2d_3 (Conv2D)            (None, 4, 4, 384)         1327488   \n",
      "_________________________________________________________________\n",
      "activation_3 (Activation)    (None, 4, 4, 384)         0         \n",
      "_________________________________________________________________\n",
      "batch_normalization_3 (Batch (None, 4, 4, 384)         1536      \n",
      "_________________________________________________________________\n",
      "conv2d_4 (Conv2D)            (None, 2, 2, 256)         884992    \n",
      "_________________________________________________________________\n",
      "activation_4 (Activation)    (None, 2, 2, 256)         0         \n",
      "_________________________________________________________________\n",
      "max_pooling2d_2 (MaxPooling2 (None, 1, 1, 256)         0         \n",
      "_________________________________________________________________\n",
      "batch_normalization_4 (Batch (None, 1, 1, 256)         1024      \n",
      "_________________________________________________________________\n",
      "flatten (Flatten)            (None, 256)               0         \n",
      "_________________________________________________________________\n",
      "dense (Dense)                (None, 4096)              1052672   \n",
      "_________________________________________________________________\n",
      "activation_5 (Activation)    (None, 4096)              0         \n",
      "_________________________________________________________________\n",
      "dropout (Dropout)            (None, 4096)              0         \n",
      "_________________________________________________________________\n",
      "batch_normalization_5 (Batch (None, 4096)              16384     \n",
      "_________________________________________________________________\n",
      "dense_1 (Dense)              (None, 4096)              16781312  \n",
      "_________________________________________________________________\n",
      "activation_6 (Activation)    (None, 4096)              0         \n",
      "_________________________________________________________________\n",
      "dropout_1 (Dropout)          (None, 4096)              0         \n",
      "_________________________________________________________________\n",
      "batch_normalization_6 (Batch (None, 4096)              16384     \n",
      "_________________________________________________________________\n",
      "dense_2 (Dense)              (None, 1000)              4097000   \n",
      "_________________________________________________________________\n",
      "activation_7 (Activation)    (None, 1000)              0         \n",
      "_________________________________________________________________\n",
      "dropout_2 (Dropout)          (None, 1000)              0         \n",
      "_________________________________________________________________\n",
      "batch_normalization_7 (Batch (None, 1000)              4000      \n",
      "_________________________________________________________________\n",
      "dense_3 (Dense)              (None, 29)                29029     \n",
      "_________________________________________________________________\n",
      "activation_8 (Activation)    (None, 29)                0         \n",
      "=================================================================\n",
      "Total params: 28,108,781\n",
      "Trainable params: 28,087,645\n",
      "Non-trainable params: 21,136\n",
      "_________________________________________________________________\n"
     ]
    }
   ],
   "source": [
    "model = Sequential()\n",
    "# 1st Convolutional Layer\n",
    "model.add(Conv2D(filters=96, input_shape=(224,224,3), kernel_size=(11,11),strides=(4,4), padding='valid'))\n",
    "model.add(Activation('relu'))\n",
    "# Max Pooling \n",
    "model.add(MaxPooling2D(pool_size=(2,2), strides=(2,2), padding='valid'))\n",
    "# Batch Normalisation before passing it to the next layer\n",
    "model.add(BatchNormalization())\n",
    "# 2nd Convolutional Layer\n",
    "model.add(Conv2D(filters=256, kernel_size=(11,11), strides=(1,1), padding='valid'))\n",
    "model.add(Activation('relu'))\n",
    "# Max Pooling\n",
    "model.add(MaxPooling2D(pool_size=(2,2), strides=(2,2), padding='valid'))\n",
    "# Batch Normalisation\n",
    "model.add(BatchNormalization())\n",
    "# 3rd Convolutional Layer\n",
    "model.add(Conv2D(filters=384, kernel_size=(3,3), strides=(1,1), padding='valid'))\n",
    "model.add(Activation('relu'))\n",
    "# Batch Normalisation\n",
    "model.add(BatchNormalization())\n",
    "# 4th Convolutional Layer\n",
    "model.add(Conv2D(filters=384, kernel_size=(3,3), strides=(1,1), padding='valid'))\n",
    "model.add(Activation('relu'))\n",
    "# Batch Normalisation\n",
    "model.add(BatchNormalization())\n",
    "# 5th Convolutional Layer\n",
    "model.add(Conv2D(filters=256, kernel_size=(3,3), strides=(1,1), padding='valid'))\n",
    "model.add(Activation('relu'))\n",
    "# Max Pooling\n",
    "model.add(MaxPooling2D(pool_size=(2,2), strides=(2,2), padding='valid'))\n",
    "# Batch Normalisation\n",
    "model.add(BatchNormalization())\n",
    "# Passing it to a dense layer\n",
    "model.add(Flatten())\n",
    "# 1st Dense Layer\n",
    "model.add(Dense(4096, input_shape=(224*224*3,)))\n",
    "model.add(Activation('relu'))\n",
    "# Add Dropout to prevent overfitting\n",
    "model.add(Dropout(0.4))\n",
    "# Batch Normalisation\n",
    "model.add(BatchNormalization())\n",
    "# 2nd Dense Layer\n",
    "model.add(Dense(4096))\n",
    "model.add(Activation('relu'))\n",
    "# Add Dropout\n",
    "model.add(Dropout(0.6))\n",
    "# Batch Normalisation\n",
    "model.add(BatchNormalization())\n",
    "# 3rd Dense Layer\n",
    "model.add(Dense(1000))\n",
    "model.add(Activation('relu'))\n",
    "# Add Dropout\n",
    "model.add(Dropout(0.5))\n",
    "# Batch Normalisation\n",
    "model.add(BatchNormalization())\n",
    "# Output Layer\n",
    "model.add(Dense(29))\n",
    "model.add(Activation('softmax'))\n",
    "model.summary()"
   ]
  },
  {
   "cell_type": "markdown",
   "metadata": {},
   "source": [
    "## Compile "
   ]
  },
  {
   "cell_type": "code",
   "execution_count": 13,
   "metadata": {
    "ExecuteTime": {
     "end_time": "2021-01-20T18:37:32.066555Z",
     "start_time": "2021-01-20T18:37:32.054715Z"
    }
   },
   "outputs": [],
   "source": [
    "model.compile(loss='categorical_crossentropy', optimizer='adam', metrics=['accuracy'])"
   ]
  },
  {
   "cell_type": "markdown",
   "metadata": {},
   "source": [
    "## some callbacks"
   ]
  },
  {
   "cell_type": "code",
   "execution_count": 14,
   "metadata": {
    "ExecuteTime": {
     "end_time": "2021-01-20T18:37:32.079407Z",
     "start_time": "2021-01-20T18:37:32.067515Z"
    }
   },
   "outputs": [],
   "source": [
    "checkpoint = ModelCheckpoint(\"Checkpoint/weights.{epoch:02d}-{val_loss:.2f}.hdf5\", monitor='val_loss', verbose=0, \n",
    "save_best_only=False, save_weights_only=False, mode='auto')\n",
    "callback = EarlyStopping(monitor='loss', patience=5)"
   ]
  },
  {
   "cell_type": "markdown",
   "metadata": {
    "ExecuteTime": {
     "end_time": "2021-01-20T17:32:04.979330Z",
     "start_time": "2021-01-20T17:32:04.973177Z"
    }
   },
   "source": [
    "# Train"
   ]
  },
  {
   "cell_type": "code",
   "execution_count": 15,
   "metadata": {
    "ExecuteTime": {
     "end_time": "2021-01-21T04:09:59.832758Z",
     "start_time": "2021-01-20T18:37:39.611631Z"
    },
    "scrolled": true
   },
   "outputs": [
    {
     "name": "stdout",
     "output_type": "stream",
     "text": [
      "Epoch 1/50\n",
      "2175/2175 [==============================] - 1298s 596ms/step - loss: 2.6050 - accuracy: 0.2857 - val_loss: 1.3996 - val_accuracy: 0.6521\n",
      "Epoch 2/50\n",
      "2175/2175 [==============================] - 1296s 596ms/step - loss: 0.4656 - accuracy: 0.8473 - val_loss: 0.4323 - val_accuracy: 0.8683\n",
      "Epoch 3/50\n",
      "2175/2175 [==============================] - 1224s 563ms/step - loss: 0.1980 - accuracy: 0.9364 - val_loss: 0.4775 - val_accuracy: 0.8687\n",
      "Epoch 4/50\n",
      "2175/2175 [==============================] - 1248s 574ms/step - loss: 0.1422 - accuracy: 0.9575 - val_loss: 1.5815 - val_accuracy: 0.7481\n",
      "Epoch 5/50\n",
      "2175/2175 [==============================] - 1332s 613ms/step - loss: 0.1022 - accuracy: 0.9701 - val_loss: 0.0667 - val_accuracy: 0.9811\n",
      "Epoch 6/50\n",
      "2175/2175 [==============================] - 1255s 577ms/step - loss: 0.0729 - accuracy: 0.9788 - val_loss: 0.0233 - val_accuracy: 0.9928\n",
      "Epoch 7/50\n",
      "2175/2175 [==============================] - 1215s 559ms/step - loss: 0.0653 - accuracy: 0.9809 - val_loss: 0.0491 - val_accuracy: 0.9855\n",
      "Epoch 8/50\n",
      "2175/2175 [==============================] - 1208s 556ms/step - loss: 0.0473 - accuracy: 0.9870 - val_loss: 0.0138 - val_accuracy: 0.9964\n",
      "Epoch 9/50\n",
      "2175/2175 [==============================] - 1206s 555ms/step - loss: 0.0444 - accuracy: 0.9873 - val_loss: 0.8587 - val_accuracy: 0.8745\n",
      "Epoch 10/50\n",
      "2175/2175 [==============================] - 1203s 553ms/step - loss: 0.0378 - accuracy: 0.9895 - val_loss: 0.1265 - val_accuracy: 0.9647\n",
      "Epoch 11/50\n",
      "2175/2175 [==============================] - 1202s 553ms/step - loss: 0.0314 - accuracy: 0.9908 - val_loss: 0.0319 - val_accuracy: 0.9906\n",
      "Epoch 12/50\n",
      "2175/2175 [==============================] - 1204s 554ms/step - loss: 0.0344 - accuracy: 0.9914 - val_loss: 0.9150 - val_accuracy: 0.8602\n",
      "Epoch 13/50\n",
      "2175/2175 [==============================] - 1202s 552ms/step - loss: 0.0324 - accuracy: 0.9917 - val_loss: 0.0483 - val_accuracy: 0.9864\n",
      "Epoch 14/50\n",
      "2175/2175 [==============================] - 1198s 551ms/step - loss: 0.0264 - accuracy: 0.9932 - val_loss: 0.0178 - val_accuracy: 0.9955\n",
      "Epoch 15/50\n",
      "2175/2175 [==============================] - 1197s 550ms/step - loss: 0.0214 - accuracy: 0.9947 - val_loss: 0.0195 - val_accuracy: 0.9952\n",
      "Epoch 16/50\n",
      "2175/2175 [==============================] - 1197s 550ms/step - loss: 0.0214 - accuracy: 0.9944 - val_loss: 0.4874 - val_accuracy: 0.8853\n",
      "Epoch 17/50\n",
      "2175/2175 [==============================] - 1197s 550ms/step - loss: 0.0198 - accuracy: 0.9943 - val_loss: 0.0133 - val_accuracy: 0.9962\n",
      "Epoch 18/50\n",
      "2175/2175 [==============================] - 1196s 550ms/step - loss: 0.0201 - accuracy: 0.9943 - val_loss: 0.0049 - val_accuracy: 0.9988\n",
      "Epoch 19/50\n",
      "2175/2175 [==============================] - 1196s 550ms/step - loss: 0.0209 - accuracy: 0.9947 - val_loss: 0.4996 - val_accuracy: 0.9124\n",
      "Epoch 20/50\n",
      "2175/2175 [==============================] - 1196s 550ms/step - loss: 0.0211 - accuracy: 0.9946 - val_loss: 0.3155 - val_accuracy: 0.9397\n",
      "Epoch 21/50\n",
      "2175/2175 [==============================] - 1196s 550ms/step - loss: 0.0182 - accuracy: 0.9953 - val_loss: 0.0786 - val_accuracy: 0.9783\n",
      "Epoch 22/50\n",
      "2175/2175 [==============================] - 1199s 551ms/step - loss: 0.0163 - accuracy: 0.9955 - val_loss: 0.0101 - val_accuracy: 0.9976\n",
      "Epoch 23/50\n",
      "2175/2175 [==============================] - 1219s 560ms/step - loss: 0.0112 - accuracy: 0.9966 - val_loss: 0.0106 - val_accuracy: 0.9965\n",
      "Epoch 24/50\n",
      "2175/2175 [==============================] - 1227s 564ms/step - loss: 0.0142 - accuracy: 0.9964 - val_loss: 0.0832 - val_accuracy: 0.9771\n",
      "Epoch 25/50\n",
      "2175/2175 [==============================] - 1245s 572ms/step - loss: 0.0103 - accuracy: 0.9973 - val_loss: 0.0172 - val_accuracy: 0.9964\n",
      "Epoch 26/50\n",
      "2175/2175 [==============================] - 1246s 573ms/step - loss: 0.0129 - accuracy: 0.9962 - val_loss: 0.0050 - val_accuracy: 0.9985\n",
      "Epoch 27/50\n",
      "2175/2175 [==============================] - 1264s 581ms/step - loss: 0.0114 - accuracy: 0.9968 - val_loss: 0.0019 - val_accuracy: 0.9994\n",
      "Epoch 28/50\n",
      "2175/2175 [==============================] - 1265s 582ms/step - loss: 0.0137 - accuracy: 0.9966 - val_loss: 0.0219 - val_accuracy: 0.9939\n"
     ]
    },
    {
     "data": {
      "text/plain": [
       "<tensorflow.python.keras.callbacks.History at 0x7feba6dca1c0>"
      ]
     },
     "execution_count": 15,
     "metadata": {},
     "output_type": "execute_result"
    }
   ],
   "source": [
    "model.fit(X_train, Y_train, batch_size=32, epochs=50, verbose=1,validation_data=(X_val, Y_val), shuffle=True,callbacks=[callback, checkpoint])"
   ]
  },
  {
   "cell_type": "markdown",
   "metadata": {},
   "source": [
    "# save model and weights to disk"
   ]
  },
  {
   "cell_type": "code",
   "execution_count": 16,
   "metadata": {
    "ExecuteTime": {
     "end_time": "2021-01-21T04:10:22.140488Z",
     "start_time": "2021-01-21T04:10:22.021998Z"
    }
   },
   "outputs": [],
   "source": [
    "# serialize model to JSON\n",
    "model_json = model.to_json()\n",
    "with open(str(MODEL), 'w') as json_file:\n",
    "    json_file.write(model_json)\n",
    "# serialize weights to HDF5\n",
    "model.save_weights(str(MODEL_WEIGHTS))"
   ]
  },
  {
   "cell_type": "markdown",
   "metadata": {},
   "source": [
    "# Testing"
   ]
  },
  {
   "cell_type": "code",
   "execution_count": 37,
   "metadata": {
    "ExecuteTime": {
     "end_time": "2021-01-21T04:27:17.686447Z",
     "start_time": "2021-01-21T04:27:17.573269Z"
    }
   },
   "outputs": [
    {
     "name": "stdout",
     "output_type": "stream",
     "text": [
      "accuracy score over test = 0.93\n"
     ]
    }
   ],
   "source": [
    "accu = np.mean(np.argmax(y_test_cat, axis=1) == np.argmax(model.predict(X_test), axis=1))\n",
    "print('accuracy score over test = {}'.format(np.round(accu, 2)))"
   ]
  },
  {
   "cell_type": "code",
   "execution_count": 55,
   "metadata": {
    "ExecuteTime": {
     "end_time": "2021-01-20T14:50:59.315849Z",
     "start_time": "2021-01-20T14:50:59.311860Z"
    }
   },
   "outputs": [
    {
     "data": {
      "text/plain": [
       "[PosixPath('real_test/IMG_20210118_143810.jpg'),\n",
       " PosixPath('real_test/IMG_20210118_143318.jpg'),\n",
       " PosixPath('real_test/IMG_20210118_143928.jpg'),\n",
       " PosixPath('real_test/IMG_20210118_143323.jpg'),\n",
       " PosixPath('real_test/IMG_20210118_143328.jpg'),\n",
       " PosixPath('real_test/IMG_20210118_143925.jpg'),\n",
       " PosixPath('real_test/IMG_20210118_143441.jpg'),\n",
       " PosixPath('real_test/IMG_20210118_143419.jpg'),\n",
       " PosixPath('real_test/IMG_20210118_143420.jpg'),\n",
       " PosixPath('real_test/IMG_20210118_143946.jpg')]"
      ]
     },
     "execution_count": 55,
     "metadata": {},
     "output_type": "execute_result"
    }
   ],
   "source": [
    "list(Path('real_test/').glob('*'))"
   ]
  },
  {
   "cell_type": "code",
   "execution_count": null,
   "metadata": {},
   "outputs": [],
   "source": [
    "def resize_img(img: Union[str, Path], new_img: Union[str, Path], \n",
    "               new_size=(224,224)):\n",
    "    image = cv2.imread(str(img))\n",
    "    resized_image = cv2.resize(image,new_size)\n",
    "    cv2.imwrite(str(new_img), resized_image)"
   ]
  },
  {
   "cell_type": "code",
   "execution_count": 57,
   "metadata": {
    "ExecuteTime": {
     "end_time": "2021-01-20T14:52:49.906574Z",
     "start_time": "2021-01-20T14:52:49.904596Z"
    }
   },
   "outputs": [],
   "source": [
    "os.makedirs('real_test_resize')"
   ]
  },
  {
   "cell_type": "code",
   "execution_count": 32,
   "metadata": {
    "ExecuteTime": {
     "end_time": "2021-01-21T04:22:46.578620Z",
     "start_time": "2021-01-21T04:22:45.283865Z"
    }
   },
   "outputs": [],
   "source": [
    "for img in Path('real_test/').glob('*'):\n",
    "    resize_img(img, Path('real_test_resize') / Path(img).name)"
   ]
  },
  {
   "cell_type": "code",
   "execution_count": 33,
   "metadata": {
    "ExecuteTime": {
     "end_time": "2021-01-21T04:22:47.885141Z",
     "start_time": "2021-01-21T04:22:47.883270Z"
    }
   },
   "outputs": [],
   "source": [
    "real_lst = list(Path('real_test_resize/').glob('*'))"
   ]
  },
  {
   "cell_type": "code",
   "execution_count": 34,
   "metadata": {
    "ExecuteTime": {
     "end_time": "2021-01-21T04:22:49.077691Z",
     "start_time": "2021-01-21T04:22:49.067334Z"
    }
   },
   "outputs": [],
   "source": [
    "real_test = [cv2.imread(str(img)) for img in real_lst]"
   ]
  },
  {
   "cell_type": "code",
   "execution_count": 35,
   "metadata": {
    "ExecuteTime": {
     "end_time": "2021-01-21T04:22:49.864686Z",
     "start_time": "2021-01-21T04:22:49.787482Z"
    }
   },
   "outputs": [
    {
     "data": {
      "text/plain": [
       "['Q', 'F', 'Y', 'F', 'Y', 'C', 'C', 'U', 'N', 'F', 'F', 'S', 'F', 'Y', 'K']"
      ]
     },
     "execution_count": 35,
     "metadata": {},
     "output_type": "execute_result"
    }
   ],
   "source": [
    "[my_lst[item] for item in list(np.argmax(model.predict(np.array(real_test).reshape(-1,224,224,3)), axis=1))]"
   ]
  },
  {
   "cell_type": "code",
   "execution_count": 103,
   "metadata": {
    "ExecuteTime": {
     "end_time": "2021-01-20T15:02:17.757737Z",
     "start_time": "2021-01-20T15:02:17.755117Z"
    }
   },
   "outputs": [
    {
     "data": {
      "text/plain": [
       "(1, 224, 224, 3)"
      ]
     },
     "execution_count": 103,
     "metadata": {},
     "output_type": "execute_result"
    }
   ],
   "source": [
    "X_test[0].reshape(1,224,224,3).shape"
   ]
  },
  {
   "cell_type": "code",
   "execution_count": 25,
   "metadata": {
    "ExecuteTime": {
     "end_time": "2021-01-21T04:11:16.613034Z",
     "start_time": "2021-01-21T04:11:16.610854Z"
    }
   },
   "outputs": [],
   "source": [
    "my_lst = ['A', 'B', 'C', 'D', 'E', 'F', 'G', 'H', 'I', 'J', 'K', 'L', 'M', 'N', 'O', 'P', 'Q', 'R', 'S', 'T', 'U', 'V', 'W', 'X', 'Y', 'Z', 'del', 'nothing', 'space']"
   ]
  },
  {
   "cell_type": "code",
   "execution_count": 36,
   "metadata": {
    "ExecuteTime": {
     "end_time": "2021-01-21T04:23:01.279125Z",
     "start_time": "2021-01-21T04:23:01.275455Z"
    }
   },
   "outputs": [
    {
     "data": {
      "text/plain": [
       "[PosixPath('real_test_resize/IMG_20210118_143810.jpg'),\n",
       " PosixPath('real_test_resize/IMG_20210118_143318.jpg'),\n",
       " PosixPath('real_test_resize/IMG_20210118_143928.jpg'),\n",
       " PosixPath('real_test_resize/IMG_20210118_143323.jpg'),\n",
       " PosixPath('real_test_resize/E.jpg'),\n",
       " PosixPath('real_test_resize/IMG_20210118_143328.jpg'),\n",
       " PosixPath('real_test_resize/C.jpg'),\n",
       " PosixPath('real_test_resize/D.jpg'),\n",
       " PosixPath('real_test_resize/IMG_20210118_143925.jpg'),\n",
       " PosixPath('real_test_resize/IMG_20210118_143441.jpg'),\n",
       " PosixPath('real_test_resize/IMG_20210118_143419.jpg'),\n",
       " PosixPath('real_test_resize/A.jpg'),\n",
       " PosixPath('real_test_resize/IMG_20210118_143420.jpg'),\n",
       " PosixPath('real_test_resize/IMG_20210118_143946.jpg'),\n",
       " PosixPath('real_test_resize/B.jpg')]"
      ]
     },
     "execution_count": 36,
     "metadata": {},
     "output_type": "execute_result"
    }
   ],
   "source": [
    "real_lst"
   ]
  },
  {
   "cell_type": "markdown",
   "metadata": {},
   "source": [
    "- G -> C\n",
    "-  -> B\n",
    "-  -> B\n",
    "- G -> F\n",
    "- C -> C\n",
    "-  -> I\n",
    "- G -> F\n",
    "-  -> C\n",
    "-  -> B\n",
    "- K -> F"
   ]
  },
  {
   "cell_type": "code",
   "execution_count": null,
   "metadata": {},
   "outputs": [],
   "source": []
  },
  {
   "cell_type": "code",
   "execution_count": null,
   "metadata": {},
   "outputs": [],
   "source": []
  },
  {
   "cell_type": "code",
   "execution_count": null,
   "metadata": {},
   "outputs": [],
   "source": []
  },
  {
   "cell_type": "code",
   "execution_count": null,
   "metadata": {},
   "outputs": [],
   "source": [
    "https://meet.google.com/mwc-dpjv-ttu"
   ]
  },
  {
   "cell_type": "code",
   "execution_count": null,
   "metadata": {},
   "outputs": [],
   "source": [
    "\n",
    "class_dic = {\"L\":0,\"B\":1,\"C\":2,\"V\":3,\"W\":4}\n",
    "\n",
    "print(\"Unpacked Dataset\")\n",
    "\n",
    "image_list = []\n",
    "image_class = []\n",
    "\n",
    "path = \"../asl_alphabet_data\"\n",
    "\n",
    "\n",
    "data_folder_path = \"../asl_alphabet_data\"\n",
    "\n",
    "\n",
    "files = os.listdir(data_folder_path)\n",
    "\n",
    "print(type(files))\n",
    "\n",
    "required_files = []\n",
    "\n",
    "symbols = ['B','C','L','V','W']\n",
    "\n",
    "for i in files:\n",
    "    if i[0] in symbols:\n",
    "        required_files.append(i)\n",
    "\n",
    "\n",
    "for i in range(10):\n",
    "\tshuffle(required_files)\n",
    "\n",
    "print(\"Shuffled Data Files\")\n",
    "  \n",
    "\n",
    "\n",
    "# print(type(files))\n",
    "print(len(required_files))\n",
    "\n",
    "class_count = {'L':0,'B':0,'C':0,'V':0,'W':0}\n",
    "\n",
    "X = []\n",
    "Y = []\n",
    "X_val = []\n",
    "Y_val = []\n",
    "X_test = []\n",
    "Y_test = []\n",
    "unique_list=[]\n",
    "\n",
    "for file_name in required_files:\n",
    "#  print(file_name)\n",
    "  label = file_name[0]\n",
    "  if label not in unique_list:\n",
    "    print(label)\n",
    "    unique_list.append(label)\n",
    "  path = data_folder_path+'/'+file_name\n",
    "  image = cv2.imread(path)\n",
    "  resized_image = cv2.resize(image,(224,224))\n",
    "  if class_count[label]<2700:\n",
    "    class_count[label]+=1\n",
    "    X.append(resized_image)\n",
    "    Y.append(class_dic[label])\n",
    "  #elif class_count[label]>=2000 and class_count[label]<2750:\n",
    "  #  class_count[label]+=1\n",
    "  #  X_val.append(resized_image)\n",
    "  #  Y_val.append(class_dic[label])\n",
    "  else:\n",
    "    X_test.append(resized_image)\n",
    "    Y_test.append(class_dic[label])\n",
    "\n",
    "print(len(unique_list))\n",
    "\t\n",
    "Y = np_utils.to_categorical(Y)\n",
    "#Y_val = np_utils.to_categorical(Y_val)\n",
    "Y_test = np_utils.to_categorical(Y_test)\n",
    "\n",
    "print(len(Y))\n",
    "#print(len(Y_val))\n",
    "print(len(Y_test))\n",
    "\n",
    "print(len(X))\n",
    "#print(len(X_val))\n",
    "print(len(X_test))\n",
    "\n",
    "npy_data_path  = \"Numpy\"\n",
    "\n",
    "np.save(npy_data_path+'/train_set.npy',X)\n",
    "np.save(npy_data_path+'/train_classes.npy',Y)\n",
    "\n",
    "#np.save(npy_data_path+'/validation_set.npy',X_val)\n",
    "#np.save(npy_data_path+'/validation_classes.npy',Y_val)\n",
    "\n",
    "np.save(npy_data_path+'/test_set.npy',X_test)\n",
    "np.save(npy_data_path+'/test_classes.npy',Y_test)\n",
    "\n",
    "print(\"Data pre-processing Success!\")\n",
    "\n",
    "#get train and validation sets\n",
    "# npy_data_path  = \"/content/drive/My Drive/ASL_Colab/Image_To_Numpy_Data\"\n",
    "\n",
    "X_train=np.load(npy_data_path+\"/train_set.npy\")\n",
    "Y_train=np.load(npy_data_path+\"/train_classes.npy\")\n",
    "\n",
    "#X_valid=np.load(npy_data_path+\"/validation_set.npy\")\n",
    "#Y_valid=np.load(npy_data_path+\"/validation_classes.npy\")\n",
    "\n",
    "X_test=np.load(npy_data_path+\"/test_set.npy\")\n",
    "Y_test=np.load(npy_data_path+\"/test_classes.npy\")\n",
    "\n",
    "X_test.shape\n",
    "\n",
    "import keras\n",
    "from keras.optimizers import SGD\n",
    "from keras.models import Sequential\n",
    "from keras.applications import VGG16\n",
    "from keras.preprocessing import image\n",
    "from keras.layers.normalization import BatchNormalization\n",
    "from keras.layers import Dense, Activation, Dropout, Flatten,Conv2D, MaxPooling2D\n",
    "\n",
    "print(\"Imported Network Essentials\")\n",
    "\n",
    "#Load the VGG model\n",
    "image_size=224\n",
    "vgg_base = VGG16(weights='imagenet',include_top=False,input_shape=(image_size,image_size,3))\n",
    "\n",
    "#initiate a model\n",
    "model = Sequential()\n",
    "\n",
    "#Add the VGG base model\n",
    "model.add(vgg_base)\n",
    "\n",
    "#Add new layers\n",
    "model.add(Flatten())\n",
    "\n",
    "model.add(Dense(8192, activation='relu'))\n",
    "model.add(Dropout(0.8))\n",
    "model.add(Dense(4096, activation='relu'))\n",
    "model.add(Dropout(0.5))\n",
    "model.add(Dense(5, activation='softmax'))\n",
    "\n",
    "\n",
    "\n",
    "# (4) Compile \n",
    "sgd = SGD(lr=0.001)\n",
    "model.compile(loss='categorical_crossentropy', optimizer=sgd, metrics=['accuracy'])\n",
    "checkpoint = keras.callbacks.ModelCheckpoint(\"Weights/weights.{epoch:02d}-{val_loss:.2f}.hdf5\", monitor='val_loss', verbose=0, save_best_only=False, save_weights_only=False, mode='auto', period=1)\n",
    "# (5) Train\n",
    "model.fit(X_train/255.0, Y_train, batch_size=32, epochs=15, verbose=1,validation_data=(X_test/255.0,Y_test/255.0), shuffle=True,callbacks=[checkpoint])\n",
    "\n",
    "# serialize model to JSON\n",
    "model_json = model.to_json()\n",
    "with open(\"Model/model.json\", \"w\") as json_file:\n",
    "    json_file.write(model_json)\n",
    "# serialize weights to HDF5\n",
    "model.save_weights(\"Model/model_weights.h5\")\n",
    "print(\"Saved model to disk\")\n"
   ]
  }
 ],
 "metadata": {
  "kernelspec": {
   "display_name": "Python 3",
   "language": "python",
   "name": "python3"
  },
  "language_info": {
   "codemirror_mode": {
    "name": "ipython",
    "version": 3
   },
   "file_extension": ".py",
   "mimetype": "text/x-python",
   "name": "python",
   "nbconvert_exporter": "python",
   "pygments_lexer": "ipython3",
   "version": "3.8.2"
  },
  "latex_envs": {
   "LaTeX_envs_menu_present": true,
   "autoclose": false,
   "autocomplete": true,
   "bibliofile": "biblio.bib",
   "cite_by": "apalike",
   "current_citInitial": 1,
   "eqLabelWithNumbers": true,
   "eqNumInitial": 1,
   "hotkeys": {
    "equation": "Ctrl-E",
    "itemize": "Ctrl-I"
   },
   "labels_anchors": false,
   "latex_user_defs": false,
   "report_style_numbering": false,
   "user_envs_cfg": false
  },
  "toc": {
   "base_numbering": 1,
   "nav_menu": {},
   "number_sections": true,
   "sideBar": true,
   "skip_h1_title": false,
   "title_cell": "Table of Contents",
   "title_sidebar": "Contents",
   "toc_cell": false,
   "toc_position": {},
   "toc_section_display": true,
   "toc_window_display": false
  }
 },
 "nbformat": 4,
 "nbformat_minor": 1
}
